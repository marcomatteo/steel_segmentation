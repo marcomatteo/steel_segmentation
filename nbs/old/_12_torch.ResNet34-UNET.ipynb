{
 "cells": [
  {
   "cell_type": "raw",
   "metadata": {},
   "source": [
    "---\n",
    "description: Pytorch solution from Kaggle.\n",
    "output-file: _12_torch.resnet34-unet.html\n",
    "title: Segmentation ResNet34-UNET from Kaggle\n",
    "\n",
    "---\n",
    "\n"
   ]
  },
  {
   "cell_type": "code",
   "execution_count": null,
   "metadata": {},
   "outputs": [],
   "source": [
    "#| include: false\n",
    "# all_slow"
   ]
  },
  {
   "cell_type": "markdown",
   "metadata": {},
   "source": [
    "[![Open In Colab](https://colab.research.google.com/assets/colab-badge.svg)](https://colab.research.google.com/github/marcomatteo/steel_segmentation/blob/master/nbs/14_torch.seg_unet_resnet34.ipynb)"
   ]
  },
  {
   "cell_type": "markdown",
   "metadata": {},
   "source": [
    "This notebook uses a UNet model with pretrained resnet18 encoder, with simple augmentations using albumentations library, uses BCE loss, metrics like Dice and IoU. The segmentation model is from [segmentation_models.pytorch](https://github.com/qubvel/segmentation_models.pytorch) which comes with a lot pre-implemented segmentation architectures. \n",
    "\n",
    "The kaggle kernel from which I've borrowed this code is: https://www.kaggle.com/rishabhiitbhu/unet-pytorch-inference-kernel."
   ]
  },
  {
   "cell_type": "code",
   "execution_count": null,
   "metadata": {},
   "outputs": [],
   "source": [
    "#| include: false\n",
    "%load_ext autoreload\n",
    "%autoreload 2\n",
    "%matplotlib inline"
   ]
  },
  {
   "cell_type": "code",
   "execution_count": null,
   "metadata": {},
   "outputs": [],
   "source": [
    "from steel_segmentation.all import *\n",
    "\n",
    "from matplotlib import pyplot as plt\n",
    "\n",
    "from fastai.vision.all import *\n",
    "import fastai\n",
    "import albumentations as alb\n",
    "import warnings\n",
    "import random\n",
    "import os\n",
    "import pandas as pd\n",
    "import numpy as np\n",
    "import torch\n",
    "import torch.backends.cudnn as cudnn\n",
    "\n",
    "import segmentation_models_pytorch as smp\n",
    "\n",
    "warnings.filterwarnings(\"ignore\")\n",
    "seed = 69\n",
    "random.seed(seed)\n",
    "os.environ[\"PYTHONHASHSEED\"] = str(seed)\n",
    "np.random.seed(seed)\n",
    "torch.cuda.manual_seed(seed)\n",
    "torch.backends.cudnn.deterministic = True"
   ]
  },
  {
   "cell_type": "code",
   "execution_count": null,
   "metadata": {},
   "outputs": [
    {
     "data": {
      "text/plain": [
       "'cuda'"
      ]
     },
     "execution_count": null,
     "metadata": {},
     "output_type": "execute_result"
    }
   ],
   "source": [
    "torch.device(\"cuda:0\").type"
   ]
  },
  {
   "cell_type": "code",
   "execution_count": null,
   "metadata": {},
   "outputs": [
    {
     "data": {
      "text/plain": [
       "True"
      ]
     },
     "execution_count": null,
     "metadata": {},
     "output_type": "execute_result"
    }
   ],
   "source": [
    "torch.cuda.is_available()"
   ]
  },
  {
   "cell_type": "code",
   "execution_count": null,
   "metadata": {},
   "outputs": [
    {
     "data": {
      "text/plain": [
       "('2.3.0', '1.7.1+cu101')"
      ]
     },
     "execution_count": null,
     "metadata": {},
     "output_type": "execute_result"
    }
   ],
   "source": [
    "fastai.__version__, torch.__version__"
   ]
  },
  {
   "cell_type": "code",
   "execution_count": null,
   "metadata": {},
   "outputs": [
    {
     "name": "stdout",
     "output_type": "stream",
     "text": [
      "Wed Apr 14 20:23:55 2021       \n",
      "+-----------------------------------------------------------------------------+\n",
      "| NVIDIA-SMI 450.36.06    Driver Version: 450.36.06    CUDA Version: 11.0     |\n",
      "|-------------------------------+----------------------+----------------------+\n",
      "| GPU  Name        Persistence-M| Bus-Id        Disp.A | Volatile Uncorr. ECC |\n",
      "| Fan  Temp  Perf  Pwr:Usage/Cap|         Memory-Usage | GPU-Util  Compute M. |\n",
      "|                               |                      |               MIG M. |\n",
      "|===============================+======================+======================|\n",
      "|   0  Quadro M4000        On   | 00000000:00:05.0 Off |                  N/A |\n",
      "| 47%   34C    P8    12W / 120W |      4MiB /  8126MiB |      0%      Default |\n",
      "|                               |                      |                  N/A |\n",
      "+-------------------------------+----------------------+----------------------+\n",
      "                                                                               \n",
      "+-----------------------------------------------------------------------------+\n",
      "| Processes:                                                                  |\n",
      "|  GPU   GI   CI        PID   Type   Process name                  GPU Memory |\n",
      "|        ID   ID                                                   Usage      |\n",
      "|=============================================================================|\n",
      "|  No running processes found                                                 |\n",
      "+-----------------------------------------------------------------------------+\n"
     ]
    }
   ],
   "source": [
    "!nvidia-smi"
   ]
  },
  {
   "cell_type": "code",
   "execution_count": null,
   "metadata": {},
   "outputs": [],
   "source": [
    "model = smp.Unet(\"resnet34\", encoder_weights=\"imagenet\", classes=4, activation=None)"
   ]
  },
  {
   "cell_type": "code",
   "execution_count": null,
   "metadata": {},
   "outputs": [
    {
     "data": {
      "text/plain": [
       "<All keys matched successfully>"
      ]
     },
     "execution_count": null,
     "metadata": {},
     "output_type": "execute_result"
    }
   ],
   "source": [
    "loaded_dict = torch.load(models_dir/\"kaggle-UNET-ResNet34.pth\")\n",
    "model.load_state_dict(loaded_dict[\"state_dict\"], strict=True)"
   ]
  },
  {
   "cell_type": "markdown",
   "metadata": {},
   "source": [
    "## Training"
   ]
  },
  {
   "cell_type": "code",
   "execution_count": null,
   "metadata": {},
   "outputs": [],
   "source": [
    "model_trainer = Trainer(model, num_epochs=20, save_path=models_dir/\"kaggle-UNET-ResNet34.pth\", bs=16)"
   ]
  },
  {
   "cell_type": "code",
   "execution_count": null,
   "metadata": {},
   "outputs": [
    {
     "name": "stdout",
     "output_type": "stream",
     "text": [
      "Starting epoch: 0 | phase: train | ⏰: 10:21:58\n",
      "Loss: 0.0915 | IoU: 0.0398 | dice: 0.4091 | dice_neg: 0.8044 | dice_pos: 0.0550\n",
      "Starting epoch: 0 | phase: val | ⏰: 10:38:10\n",
      "Loss: 0.0284 | IoU: 0.2677 | dice: 0.6111 | dice_neg: 0.9141 | dice_pos: 0.3548\n",
      "******** New optimal found, saving state ********\n",
      "\n",
      "Starting epoch: 1 | phase: train | ⏰: 10:40:34\n",
      "Loss: 0.0230 | IoU: 0.2976 | dice: 0.5621 | dice_neg: 0.7621 | dice_pos: 0.3830\n",
      "Starting epoch: 1 | phase: val | ⏰: 10:56:47\n",
      "Loss: 0.0190 | IoU: 0.2983 | dice: 0.6070 | dice_neg: 0.8715 | dice_pos: 0.3833\n",
      "******** New optimal found, saving state ********\n",
      "\n",
      "Starting epoch: 2 | phase: train | ⏰: 10:59:04\n",
      "Loss: 0.0182 | IoU: 0.3224 | dice: 0.6120 | dice_neg: 0.8406 | dice_pos: 0.4073\n",
      "Starting epoch: 2 | phase: val | ⏰: 11:15:15\n",
      "Loss: 0.0170 | IoU: 0.3423 | dice: 0.6571 | dice_neg: 0.9314 | dice_pos: 0.4252\n",
      "******** New optimal found, saving state ********\n",
      "\n",
      "Starting epoch: 3 | phase: train | ⏰: 11:17:38\n",
      "Loss: 0.0161 | IoU: 0.3467 | dice: 0.6172 | dice_neg: 0.8198 | dice_pos: 0.4358\n",
      "Starting epoch: 3 | phase: val | ⏰: 11:33:40\n",
      "Loss: 0.0189 | IoU: 0.3875 | dice: 0.6119 | dice_neg: 0.7648 | dice_pos: 0.4826\n",
      "\n",
      "Starting epoch: 4 | phase: train | ⏰: 11:35:57\n",
      "Loss: 0.0152 | IoU: 0.3746 | dice: 0.6323 | dice_neg: 0.8105 | dice_pos: 0.4727\n",
      "Starting epoch: 4 | phase: val | ⏰: 11:52:09\n",
      "Loss: 0.0133 | IoU: 0.4126 | dice: 0.6858 | dice_neg: 0.8872 | dice_pos: 0.5154\n",
      "******** New optimal found, saving state ********\n",
      "\n",
      "Starting epoch: 5 | phase: train | ⏰: 11:54:25\n",
      "Loss: 0.0138 | IoU: 0.3930 | dice: 0.6596 | dice_neg: 0.8457 | dice_pos: 0.4929\n",
      "Starting epoch: 5 | phase: val | ⏰: 12:10:41\n",
      "Loss: 0.0131 | IoU: 0.4353 | dice: 0.6706 | dice_neg: 0.8273 | dice_pos: 0.5381\n",
      "******** New optimal found, saving state ********\n",
      "\n",
      "Starting epoch: 6 | phase: train | ⏰: 12:13:04\n",
      "Loss: 0.0131 | IoU: 0.4101 | dice: 0.6715 | dice_neg: 0.8528 | dice_pos: 0.5091\n",
      "Starting epoch: 6 | phase: val | ⏰: 12:29:25\n",
      "Loss: 0.0142 | IoU: 0.3762 | dice: 0.6087 | dice_neg: 0.7483 | dice_pos: 0.4906\n",
      "\n",
      "Starting epoch: 7 | phase: train | ⏰: 12:31:45\n",
      "Loss: 0.0127 | IoU: 0.4136 | dice: 0.6804 | dice_neg: 0.8680 | dice_pos: 0.5125\n",
      "Starting epoch: 7 | phase: val | ⏰: 12:48:06\n",
      "Loss: 0.0124 | IoU: 0.4230 | dice: 0.6803 | dice_neg: 0.8568 | dice_pos: 0.5310\n",
      "******** New optimal found, saving state ********\n",
      "\n",
      "Starting epoch: 8 | phase: train | ⏰: 12:50:29\n",
      "Loss: 0.0118 | IoU: 0.4315 | dice: 0.6924 | dice_neg: 0.8682 | dice_pos: 0.5350\n",
      "Starting epoch: 8 | phase: val | ⏰: 13:06:49\n",
      "Loss: 0.0118 | IoU: 0.4163 | dice: 0.7149 | dice_neg: 0.9392 | dice_pos: 0.5251\n",
      "******** New optimal found, saving state ********\n",
      "\n",
      "Starting epoch: 9 | phase: train | ⏰: 13:09:13\n",
      "Loss: 0.0110 | IoU: 0.4548 | dice: 0.7139 | dice_neg: 0.8808 | dice_pos: 0.5643\n",
      "Starting epoch: 9 | phase: val | ⏰: 13:25:35\n",
      "Loss: 0.0121 | IoU: 0.4202 | dice: 0.7133 | dice_neg: 0.9314 | dice_pos: 0.5288\n",
      "\n",
      "Starting epoch: 10 | phase: train | ⏰: 13:27:56\n",
      "Loss: 0.0111 | IoU: 0.4512 | dice: 0.7100 | dice_neg: 0.8760 | dice_pos: 0.5613\n",
      "Starting epoch: 10 | phase: val | ⏰: 13:44:15\n",
      "Loss: 0.0139 | IoU: 0.3767 | dice: 0.6825 | dice_neg: 0.9141 | dice_pos: 0.4866\n",
      "\n",
      "Starting epoch: 11 | phase: train | ⏰: 13:46:41\n",
      "Loss: 0.0109 | IoU: 0.4695 | dice: 0.7207 | dice_neg: 0.8785 | dice_pos: 0.5794\n",
      "Starting epoch: 11 | phase: val | ⏰: 14:02:59\n",
      "Loss: 0.0132 | IoU: 0.4167 | dice: 0.7098 | dice_neg: 0.9271 | dice_pos: 0.5259\n",
      "\n",
      "Starting epoch: 12 | phase: train | ⏰: 14:05:16\n",
      "Loss: 0.0105 | IoU: 0.4735 | dice: 0.7268 | dice_neg: 0.8842 | dice_pos: 0.5858\n",
      "Starting epoch: 12 | phase: val | ⏰: 14:21:26\n",
      "Loss: 0.0121 | IoU: 0.4272 | dice: 0.7165 | dice_neg: 0.9358 | dice_pos: 0.5311\n",
      "Epoch    13: reducing learning rate of group 0 to 5.0000e-05.\n",
      "\n",
      "Starting epoch: 13 | phase: train | ⏰: 14:23:41\n",
      "Loss: 0.0089 | IoU: 0.5117 | dice: 0.7631 | dice_neg: 0.9196 | dice_pos: 0.6229\n",
      "Starting epoch: 13 | phase: val | ⏰: 14:39:56\n",
      "Loss: 0.0102 | IoU: 0.5081 | dice: 0.7553 | dice_neg: 0.9080 | dice_pos: 0.6261\n",
      "******** New optimal found, saving state ********\n",
      "\n",
      "Starting epoch: 14 | phase: train | ⏰: 14:42:18\n",
      "Loss: 0.0083 | IoU: 0.5424 | dice: 0.7786 | dice_neg: 0.9135 | dice_pos: 0.6578\n",
      "Starting epoch: 14 | phase: val | ⏰: 14:58:37\n",
      "Loss: 0.0102 | IoU: 0.5155 | dice: 0.7664 | dice_neg: 0.9184 | dice_pos: 0.6379\n",
      "\n",
      "Starting epoch: 15 | phase: train | ⏰: 15:00:59\n",
      "Loss: 0.0081 | IoU: 0.5466 | dice: 0.7833 | dice_neg: 0.9173 | dice_pos: 0.6634\n",
      "Starting epoch: 15 | phase: val | ⏰: 15:17:21\n",
      "Loss: 0.0101 | IoU: 0.5052 | dice: 0.7636 | dice_neg: 0.9236 | dice_pos: 0.6283\n",
      "******** New optimal found, saving state ********\n",
      "\n",
      "Starting epoch: 16 | phase: train | ⏰: 15:19:44\n"
     ]
    }
   ],
   "source": [
    "model_trainer.start()"
   ]
  },
  {
   "cell_type": "code",
   "execution_count": null,
   "metadata": {},
   "outputs": [
    {
     "data": {
      "text/plain": [
       "<All keys matched successfully>"
      ]
     },
     "execution_count": null,
     "metadata": {},
     "output_type": "execute_result"
    }
   ],
   "source": [
    "loaded_dict = torch.load(models_dir/\"kaggle-UNET-ResNet34.pth\")\n",
    "model.load_state_dict(loaded_dict[\"state_dict\"], strict=True)"
   ]
  },
  {
   "cell_type": "code",
   "execution_count": null,
   "metadata": {},
   "outputs": [],
   "source": [
    "model_trainer = Trainer(model, num_epochs=10, save_path=models_dir/\"kaggle-UNET-ResNet34-stage2.pth\", bs=16)"
   ]
  },
  {
   "cell_type": "code",
   "execution_count": null,
   "metadata": {},
   "outputs": [
    {
     "name": "stdout",
     "output_type": "stream",
     "text": [
      "Starting epoch: 0 | phase: train | ⏰: 20:27:36\n",
      "Loss: 0.0101 | IoU: 0.4904 | dice: 0.7336 | dice_neg: 0.8758 | dice_pos: 0.6063\n",
      "Starting epoch: 0 | phase: val | ⏰: 20:45:09\n",
      "Loss: 0.0110 | IoU: 0.4701 | dice: 0.7416 | dice_neg: 0.9349 | dice_pos: 0.5781\n",
      "******** New optimal found, saving state ********\n",
      "\n",
      "Starting epoch: 1 | phase: train | ⏰: 20:47:55\n",
      "Loss: 0.0098 | IoU: 0.4981 | dice: 0.7364 | dice_neg: 0.8752 | dice_pos: 0.6121\n",
      "Starting epoch: 1 | phase: val | ⏰: 21:05:03\n",
      "Loss: 0.0122 | IoU: 0.4473 | dice: 0.7252 | dice_neg: 0.9253 | dice_pos: 0.5560\n",
      "\n",
      "Starting epoch: 2 | phase: train | ⏰: 21:07:26\n",
      "Loss: 0.0098 | IoU: 0.5038 | dice: 0.7479 | dice_neg: 0.8926 | dice_pos: 0.6184\n",
      "Starting epoch: 2 | phase: val | ⏰: 21:24:05\n"
     ]
    }
   ],
   "source": [
    "model_trainer.start()"
   ]
  },
  {
   "cell_type": "code",
   "execution_count": null,
   "metadata": {},
   "outputs": [
    {
     "data": {
      "text/plain": [
       "<All keys matched successfully>"
      ]
     },
     "execution_count": null,
     "metadata": {},
     "output_type": "execute_result"
    }
   ],
   "source": [
    "loaded_dict = torch.load(models_dir/\"kaggle-UNET-ResNet34-stage2.pth\")\n",
    "model.load_state_dict(loaded_dict[\"state_dict\"], strict=True)"
   ]
  },
  {
   "cell_type": "markdown",
   "metadata": {},
   "source": [
    "## Results"
   ]
  },
  {
   "cell_type": "code",
   "execution_count": null,
   "metadata": {},
   "outputs": [
    {
     "data": {
      "text/plain": [
       "0.010313277598574392"
      ]
     },
     "execution_count": null,
     "metadata": {},
     "output_type": "execute_result"
    }
   ],
   "source": [
    "loaded_dict[\"best_loss\"]"
   ]
  },
  {
   "cell_type": "code",
   "execution_count": null,
   "metadata": {},
   "outputs": [
    {
     "data": {
      "image/png": "[encoded data removed]",
      "text/plain": [
       "<Figure size 1080x360 with 1 Axes>"
      ]
     },
     "metadata": {
      "needs_background": "light"
     },
     "output_type": "display_data"
    },
    {
     "data": {
      "image/png": "[encoded data removed]",
      "text/plain": [
       "<Figure size 1080x360 with 1 Axes>"
      ]
     },
     "metadata": {
      "needs_background": "light"
     },
     "output_type": "display_data"
    },
    {
     "data": {
      "image/png": "[encoded data removed]",
      "text/plain": [
       "<Figure size 1080x360 with 1 Axes>"
      ]
     },
     "metadata": {
      "needs_background": "light"
     },
     "output_type": "display_data"
    }
   ],
   "source": [
    "# PLOT TRAINING\n",
    "losses = model_trainer.losses\n",
    "dice_scores = model_trainer.dice_scores  # overall dice\n",
    "iou_scores = model_trainer.iou_scores\n",
    "\n",
    "\n",
    "def plot(scores, name):\n",
    "    plt.figure(figsize=(15, 5))\n",
    "    plt.plot(range(len(scores[\"train\"])),\n",
    "             scores[\"train\"], label=f'train {name}')\n",
    "    plt.plot(range(len(scores[\"train\"])), scores[\"val\"], label=f'val {name}')\n",
    "    plt.title(f'{name} plot')\n",
    "    plt.xlabel('Epoch')\n",
    "    plt.ylabel(f'{name}')\n",
    "    plt.legend()\n",
    "    plt.show()\n",
    "\n",
    "\n",
    "plot(losses, \"BCE loss\")\n",
    "plot(dice_scores, \"Dice score\")\n",
    "plot(iou_scores, \"IoU score\")"
   ]
  },
  {
   "cell_type": "markdown",
   "metadata": {},
   "source": [
    "## Inference"
   ]
  },
  {
   "cell_type": "code",
   "execution_count": null,
   "metadata": {},
   "outputs": [],
   "source": [
    "testset_dl = get_test_dls()"
   ]
  },
  {
   "cell_type": "code",
   "execution_count": null,
   "metadata": {},
   "outputs": [],
   "source": [
    "pred = Predict(test_dl=testset_dl, model=model)"
   ]
  },
  {
   "cell_type": "code",
   "execution_count": null,
   "metadata": {},
   "outputs": [
    {
     "name": "stderr",
     "output_type": "stream",
     "text": [
      "100%|██████████| 1377/1377 [03:09<00:00,  7.27it/s]\n"
     ]
    }
   ],
   "source": [
    "threshold = 0.5\n",
    "min_size = 3000\n",
    "df_preds = pred(threshold=threshold, min_size=min_size)"
   ]
  },
  {
   "cell_type": "code",
   "execution_count": null,
   "metadata": {},
   "outputs": [
    {
     "data": {
      "text/html": [
       "<div>\n",
       "<style scoped>\n",
       "    .dataframe tbody tr th:only-of-type {\n",
       "        vertical-align: middle;\n",
       "    }\n",
       "\n",
       "    .dataframe tbody tr th {\n",
       "        vertical-align: top;\n",
       "    }\n",
       "\n",
       "    .dataframe thead th {\n",
       "        text-align: right;\n",
       "    }\n",
       "</style>\n",
       "<table border=\"1\" class=\"dataframe\">\n",
       "  <thead>\n",
       "    <tr style=\"text-align: right;\">\n",
       "      <th></th>\n",
       "      <th>ImageId_ClassId</th>\n",
       "      <th>EncodedPixels</th>\n",
       "    </tr>\n",
       "  </thead>\n",
       "  <tbody>\n",
       "    <tr>\n",
       "      <th>0</th>\n",
       "      <td>0000f269f.jpg_1</td>\n",
       "      <td></td>\n",
       "    </tr>\n",
       "    <tr>\n",
       "      <th>1</th>\n",
       "      <td>0000f269f.jpg_2</td>\n",
       "      <td></td>\n",
       "    </tr>\n",
       "    <tr>\n",
       "      <th>2</th>\n",
       "      <td>0000f269f.jpg_3</td>\n",
       "      <td>146438 31 146477 151 146640 47 146692 252 146947 254 147203 254 147459 254 147714 255 147970 255 148226 255 148482 255 148738 255 148994 255 149250 255 149506 255 149762 255 150018 255 150274 255 150530 255 150786 255 151043 254 151299 254 151555 254 151812 253 152078 55 152155 165 152433 30 152494 18 152551 24</td>\n",
       "    </tr>\n",
       "    <tr>\n",
       "      <th>3</th>\n",
       "      <td>0000f269f.jpg_4</td>\n",
       "      <td></td>\n",
       "    </tr>\n",
       "    <tr>\n",
       "      <th>4</th>\n",
       "      <td>000ccc2ac.jpg_1</td>\n",
       "      <td></td>\n",
       "    </tr>\n",
       "  </tbody>\n",
       "</table>\n",
       "</div>"
      ],
      "text/plain": [
       "   ImageId_ClassId  \\\n",
       "0  0000f269f.jpg_1   \n",
       "1  0000f269f.jpg_2   \n",
       "2  0000f269f.jpg_3   \n",
       "3  0000f269f.jpg_4   \n",
       "4  000ccc2ac.jpg_1   \n",
       "\n",
       "                                                                                                                                                                                                                                                                                                              EncodedPixels  \n",
       "0                                                                                                                                                                                                                                                                                                                            \n",
       "1                                                                                                                                                                                                                                                                                                                            \n",
       "2  146438 31 146477 151 146640 47 146692 252 146947 254 147203 254 147459 254 147714 255 147970 255 148226 255 148482 255 148738 255 148994 255 149250 255 149506 255 149762 255 150018 255 150274 255 150530 255 150786 255 151043 254 151299 254 151555 254 151812 253 152078 55 152155 165 152433 30 152494 18 152551 24  \n",
       "3                                                                                                                                                                                                                                                                                                                            \n",
       "4                                                                                                                                                                                                                                                                                                                            "
      ]
     },
     "execution_count": null,
     "metadata": {},
     "output_type": "execute_result"
    }
   ],
   "source": [
    "df_preds.head()"
   ]
  },
  {
   "cell_type": "code",
   "execution_count": null,
   "metadata": {},
   "outputs": [],
   "source": [
    "pred.save_submission(\"pytorch-resnet34-unet\")"
   ]
  }
 ],
 "metadata": {
  "kernelspec": {
   "display_name": "Python 3",
   "language": "python",
   "name": "python3"
  }
 },
 "nbformat": 4,
 "nbformat_minor": 1
}
