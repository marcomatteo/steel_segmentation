{
 "cells": [
  {
   "cell_type": "raw",
   "metadata": {},
   "source": [
    "---\n",
    "description: Prediction and export outputs.\n",
    "output-file: _08_predict.html\n",
    "title: Predict\n",
    "\n",
    "---\n",
    "\n"
   ]
  },
  {
   "cell_type": "code",
   "execution_count": null,
   "metadata": {},
   "outputs": [],
   "source": [
    "#| default_exp predict\n",
    "# all_slow"
   ]
  },
  {
   "cell_type": "markdown",
   "metadata": {},
   "source": [
    "[![Open In Colab](https://colab.research.google.com/assets/colab-badge.svg)](https://colab.research.google.com/github/marcomatteo/steel_segmentation/blob/master/nbs/08_predict.ipynb)"
   ]
  },
  {
   "cell_type": "code",
   "execution_count": null,
   "metadata": {},
   "outputs": [],
   "source": [
    "#| include: false\n",
    "%load_ext autoreload\n",
    "%autoreload 2\n",
    "%matplotlib inline"
   ]
  },
  {
   "cell_type": "code",
   "execution_count": null,
   "metadata": {},
   "outputs": [],
   "source": [
    "#| include: false\n",
    "from nbdev.showdoc import *"
   ]
  },
  {
   "cell_type": "code",
   "execution_count": null,
   "metadata": {},
   "outputs": [],
   "source": [
    "#| export\n",
    "from steel_segmentation.metadata import *\n",
    "from steel_segmentation.masks import *\n",
    "from steel_segmentation.datasets import *\n",
    "from steel_segmentation.dataloaders import *\n",
    "from steel_segmentation.metrics import *\n",
    "from steel_segmentation.loss import *\n",
    "from steel_segmentation.trainer import *\n",
    "\n",
    "import fastai\n",
    "from fastai.vision.all import *\n",
    "from fastai.metrics import *\n",
    "from fastai.data.all import *\n",
    "\n",
    "import os\n",
    "import cv2\n",
    "import pathlib\n",
    "import numpy as np\n",
    "import pandas as pd\n",
    "import warnings\n",
    "import zipfile\n",
    "from tqdm import tqdm\n",
    "\n",
    "from torch.utils.data import DataLoader, Dataset, sampler\n",
    "import albumentations as alb\n",
    "\n",
    "import segmentation_models_pytorch as smp"
   ]
  },
  {
   "cell_type": "code",
   "execution_count": null,
   "metadata": {},
   "outputs": [
    {
     "name": "stdout",
     "output_type": "stream",
     "text": [
      "../models/fastai-UNET-ResNet34-256-stage5.pth\n",
      "../models/resnet18_class.pth\n",
      "../models/FPN-fastai-ResNet34-stage1.pth\n",
      "../models/exports\n",
      "../models/.ipynb_checkpoints\n",
      "../models/ResNet18-stage1-f1_0918.pth\n",
      "../models/kaggle-UNET-ResNet34.pth\n",
      "../models/ResNet18-encoder.pt\n",
      "../models/logs\n",
      "../models/kaggle-FPN-ResNet34.pth\n",
      "../models/efficientnet_b2-UNET-stage0.pth\n",
      "../models/resnet18-UNET-stage0.pth\n"
     ]
    }
   ],
   "source": [
    "#| missing\n",
    "print_competition_data(models_dir)"
   ]
  },
  {
   "cell_type": "markdown",
   "metadata": {},
   "source": [
    "## Fast.ai prediction"
   ]
  },
  {
   "cell_type": "code",
   "execution_count": null,
   "metadata": {},
   "outputs": [],
   "source": [
    "arch = resnet34\n",
    "dls = get_segmentation_dls_from_df(train_df=train_multi.iloc[:100], bs=2, size=(256,1600))\n",
    "segmentation_learner = unet_learner(dls=dls, arch=arch, pretrained=True, model_dir=models_dir)"
   ]
  },
  {
   "cell_type": "code",
   "execution_count": null,
   "metadata": {},
   "outputs": [],
   "source": [
    "#| missing\n",
    "segmentation_learner = segmentation_learner.load(\"fastai-UNET-ResNet34-256-stage5\")"
   ]
  },
  {
   "cell_type": "code",
   "execution_count": null,
   "metadata": {},
   "outputs": [],
   "source": [
    "#| export\n",
    "class FastPredict:\n",
    "    pred_mask_path = pred_path / \"prediction_masks\"\n",
    "    \n",
    "    def get_df_source_list(self):\n",
    "        \"\"\"Load `source` if it's a DataFrame instance.\"\"\"\n",
    "        tfm = ColReader(\"ImageId\", pref=self.source_path)\n",
    "        return L([tfm(o) for o in self.source.itertuples()])\n",
    "        \n",
    "    def get_path_source_list(self):\n",
    "        \"\"\"Load `source` if it's a pathlib.Path instance.\"\"\"\n",
    "        return get_image_files(self.source)\n",
    "    \n",
    "    def __init__(self, \n",
    "                 source, \n",
    "                 learner,\n",
    "                 source_path:pathlib.Path=None):\n",
    "        \"\"\"\n",
    "        A FastPredict object has:\n",
    "        - source: key to load a list of images\n",
    "        - learner: a fastai Learner object\n",
    "        - source_path: the folder path to the images \n",
    "        \"\"\"\n",
    "        self.source = source \n",
    "        self.learner = learner\n",
    "        self.source_path = source_path if source_path else train_path\n",
    "        \n",
    "        self.single_prediction = False\n",
    "        \n",
    "        if isinstance(self.source, pathlib.Path):\n",
    "            self.img_paths = self.get_path_source_list()\n",
    "        elif isinstance(self.source, pd.DataFrame):\n",
    "            self.img_paths = self.get_df_source_list()\n",
    "        elif isinstance(self.source, list):\n",
    "            self.img_paths = self.source\n",
    "        elif isinstance(self.source, str):\n",
    "            self.single_prediction = True\n",
    "            self.img_paths = L(self.source_path / self.source)\n",
    "\n",
    "        self.elems = len(self.img_paths)\n",
    "    \n",
    "    def __call__(self, size_fold:int, threshold:float, min_size:int):\n",
    "        \"\"\"Call the object with prediction attributes, \n",
    "        it calls `Predict.get_predictions`\n",
    "        and returns the `Predict.df` DataFrame with RLEs.\"\"\"\n",
    "        self.size_fold = min([self.elems, size_fold])\n",
    "        self.threshold = threshold\n",
    "        self.min_size = min_size\n",
    "        self.folds = self.elems // self.size_fold\n",
    "        \n",
    "        if (self.elems % self.size_fold) != 0:\n",
    "            self.folds += 1\n",
    "            \n",
    "        self.df = self.get_predictions()\n",
    "        return self.df\n",
    "    \n",
    "    def get_predictions(self):\n",
    "        \"\"\"Iterate through `Predict.folds`, predict the mask and\n",
    "        get the RLEs in a DataFrame.\"\"\"\n",
    "        df_preds = []\n",
    "        \n",
    "        for fold in range(self.folds):\n",
    "            start, end = fold*self.size_fold, (fold+1)*self.size_fold\n",
    "            print(f\"From {start} to {end} of {self.elems}\")\n",
    "            \n",
    "            selected_imgs = self.img_paths[start:end]\n",
    "            \n",
    "            img_names = selected_imgs.map(Path).map(lambda x: x.name)\n",
    "            pred_probs = self.predict(selected_imgs)            \n",
    "            \n",
    "            tmp_df = self.get_RLEs(img_names, pred_probs)\n",
    "            df_preds.append(tmp_df)\n",
    "\n",
    "            torch.cuda.empty_cache()\n",
    "        \n",
    "        if len(df_preds) == 1:\n",
    "            return df_preds[0]\n",
    "        \n",
    "        df = pd.concat(df_preds, axis=0, ignore_index=True)\n",
    "        return df.fillna(\"\")\n",
    "    \n",
    "    def predict(self, selected_imgs):\n",
    "        \"\"\"Get the predictions on the `selected_imgs`.\"\"\"\n",
    "        if self.single_prediction:\n",
    "            pred_full_dec, pred_dec, out = self.learner.predict(selected_imgs[0])\n",
    "            return out.unsqueeze(dim=0)\n",
    "            \n",
    "        test_dl = self.learner.dls.test_dl(test_items=selected_imgs)\n",
    "        pred_probs,_,_ = self.learner.get_preds(dl=test_dl, with_decoded=True)\n",
    "        \n",
    "        return pred_probs\n",
    "    \n",
    "    def get_RLEs(self, img_names, pred_probs):\n",
    "        \"\"\"For each image in the batch to predict, \n",
    "        returns a list of tuples with `(img_id, rle)`.\"\"\"\n",
    "        predictions = []\n",
    "        \n",
    "        for num_pred, t_pred in enumerate(pred_probs): # img in bs\n",
    "            np_pred = t_pred.numpy()\n",
    "\n",
    "            # iterate through class_id without class_id 0\n",
    "            for class_id, prob in enumerate(np_pred[1:]): \n",
    "                pred, num = self.post_process(prob)\n",
    "                rle = mask2rle(pred)\n",
    "                name = img_names[num_pred] + f\"_{class_id+1}\"\n",
    "                predictions.append([name, rle])\n",
    "        \n",
    "        return pd.DataFrame(predictions, columns=['ImageId_ClassId', 'EncodedPixels'])\n",
    "    \n",
    "    def post_process(self, probability):\n",
    "        \"\"\"\n",
    "        Post processing of each predicted mask, components with lesser number of pixels\n",
    "        than `min_size` are ignored.\n",
    "        \"\"\"\n",
    "        mask = cv2.threshold(probability, self.threshold, 1, cv2.THRESH_BINARY)[1]\n",
    "        num_component, component = cv2.connectedComponents(mask.astype(np.uint8))\n",
    "        predictions = np.zeros((256, 1600), np.float32)\n",
    "        num = 0\n",
    "        for c in range(1, num_component):\n",
    "            p = (component == c)\n",
    "            if p.sum() > self.min_size:\n",
    "                predictions[p] = 1\n",
    "                num += 1\n",
    "        return predictions, num\n",
    "    \n",
    "    def save_masks(self, df_export_fname=None, make_zip=True):\n",
    "        \"\"\"\n",
    "        If `df_export_fname` save predicted masks in \n",
    "        `pred_path / df_export_fname` in CSV and the JSON.\n",
    "        Otherwise the file are named \"predictions.csv\" and \"predictions.json\".\n",
    "        Saving the zip of the masks if `make_zip`.\n",
    "        \n",
    "        Run this method after __call__.\n",
    "        \"\"\"\n",
    "        if not hasattr(self, 'df'):\n",
    "            print(\"Predictions missing. Call the Prediction object first!\")\n",
    "            raise KeyError(\"Missing self.df, first run self.__call__ to get predictions\")\n",
    "        \n",
    "        self.df_masks = self.make_masks()\n",
    "        \n",
    "        if not df_export_fname:\n",
    "            df_export_fname = \"predictions\"\n",
    "            \n",
    "        csv_name = pred_path/(df_export_fname + \".csv\")\n",
    "        json_name = pred_path/(df_export_fname + \".json\")\n",
    "        self.df_masks.to_csv(csv_name, index=False)\n",
    "        self.df_masks.to_json(json_name, orient=\"table\", indent=4)\n",
    "        \n",
    "        if make_zip:\n",
    "            zip_fname = df_export_fname + \".zip\"\n",
    "            with zipfile.ZipFile(pred_path/zip_fname, 'w', zipfile.ZIP_DEFLATED) as zipf:\n",
    "                self.zipdir(zipf)\n",
    "            \n",
    "    def make_masks(self):\n",
    "        \"\"\"\n",
    "        Iterate through the RLEs in `Predict.df` and save the masks.\n",
    "        Returns the `Predict.df_masks` DataFrame (if not `json`) with\n",
    "        `columns=['ImageId', 'ClassId', 'Mask_path']`.\n",
    "        \"\"\"\n",
    "        self.pred_mask_path.mkdir(parents=True, exist_ok=True)\n",
    "\n",
    "        rows = []\n",
    "        for row in self.df.itertuples():\n",
    "            if row.EncodedPixels != '':\n",
    "                img_id, class_id = row.ImageId_ClassId.split(\"_\")\n",
    "                img_id = img_id.split(\".\")[0]\n",
    "                img_label = img_id + \"_pred.png\"\n",
    "                img_path = self.pred_mask_path / img_label\n",
    "\n",
    "                mask = rle2mask(row.EncodedPixels, 1, (256, 1600))\n",
    "                im = Image.fromarray(mask)\n",
    "                im.save(img_path)\n",
    "\n",
    "                rows.append((img_id + \".jpg\", class_id, img_label))\n",
    "        \n",
    "        return pd.DataFrame(rows, columns=['ImageId', 'ClassId', 'Mask_path'])\n",
    "    \n",
    "    def zipdir(self, ziph:zipfile.ZipFile, pfolder=None):\n",
    "        \"\"\"Zip the current `self.pred_mask_path` directory,\n",
    "        otherwise zip the `path` dir if provided.\"\"\"\n",
    "        if not pfolder:\n",
    "            pfolder = self.pred_mask_path\n",
    "\n",
    "        if not isinstance(pfolder, pathlib.Path):\n",
    "            pfolder = Path(pfolder)\n",
    "\n",
    "        for root,dirs,files in os.walk(pfolder):\n",
    "            root = Path(root)\n",
    "            for file in files:\n",
    "                fname = root / file\n",
    "                ziph.write(filename=fname,\n",
    "                           arcname =os.path.relpath(fname,fname.parent))\n",
    "                \n",
    "    def save_submission(self, fname=\"test_submission\"):\n",
    "        \"\"\"Save submission file in CSV in `sub_path`. \n",
    "        It adds always .csv at the end of `fname`.\"\"\"\n",
    "        if not hasattr(self, 'df'):\n",
    "            raise KeyError(\"Call the object first to get the predictions\")\n",
    "        \n",
    "        file_path = sub_path / (fname + '.csv')\n",
    "        self.df.to_csv(file_path, index=False)\n",
    "    \n",
    "#    def plot(self, n:int=5, rand=False):\n",
    "#        \"\"\"Plot `n` elements in `self.img_paths`. \n",
    "#        If `rand` prints shuffle images.\"\"\"\n",
    "#        if (not hasattr(self, 'df_masks'))|(not hasattr(self, 'df')):\n",
    "#            return \"Nothing to plot, first call make_masks\"\n",
    "\n",
    "#        path_list = self.img_paths.map(Path)\n",
    "        \n",
    "#        if rand:\n",
    "            #path_list = get_perm_imgs_path(self.img_paths.map(Path), self.df_masks)   \n",
    "#            path_list = path_list.shuffle()\n",
    "            \n",
    "#        df = self.df.copy()\n",
    "#        splitted_cols = df[\"ImageId_ClassId\"].str.split(\"_\", expand=True)\n",
    "#        df[\"ImageId\"], df[\"ClassId\"] = splitted_cols[0], splitted_cols[1].astype(\"int64\")\n",
    "        \n",
    "#        for p in path_list[:n]:\n",
    "#            imgid, mask = make_mask(p, flatten=True, df=df)\n",
    "#            img = cv2.imread(str(p))\n",
    "#            plot_mask_image(imgid, img, mask)"
   ]
  },
  {
   "cell_type": "markdown",
   "metadata": {},
   "source": [
    "The `Predict` class needs a `source` and a `source_path` when `source` is:\n",
    "- a `str` for the `ImageId` of a single image\n",
    "- a dataframe with the `ImageId` column.\n",
    "\n",
    "Otherwise `source` can be a list (`L`) of paths or a single `Path` object.\n",
    "\n",
    "How to use:\n",
    "1. Setup the `Predict` class: create an instance with `pred = Predict(*args)`.\n",
    "2. Call the object (e.g. `pred`) with the parameters: `size_fold` is the number of elements to infer toghether, `threshold` is the threshold for the probabilities from the activation function, `min_size` needs to ignore components in the predicted masks with few number of pixels (to reduce the false positive rate).\n",
    "3. Get the predictions `DataFrame` with the `ImageId_ClassId` and the `EncodedPixels` columns."
   ]
  },
  {
   "cell_type": "code",
   "execution_count": null,
   "metadata": {},
   "outputs": [
    {
     "name": "stdout",
     "output_type": "stream",
     "text": [
      "(1, 2)\n"
     ]
    }
   ],
   "source": [
    "df_tmp = segmentation_learner.dls.valid.items.iloc[:5]\n",
    "print(df_tmp.shape)\n",
    "\n",
    "pred = FastPredict(df_tmp, segmentation_learner) # with a pd.DataFrame source"
   ]
  },
  {
   "cell_type": "code",
   "execution_count": null,
   "metadata": {},
   "outputs": [
    {
     "data": {
      "text/markdown": [
       "<h4 id=\"FastPredict.__call__\" class=\"doc_header\"><code>FastPredict.__call__</code><a href=\"__main__.py#L42\" class=\"source_link\" style=\"float:right\">[source]</a></h4>\n",
       "\n",
       "> <code>FastPredict.__call__</code>(**`size_fold`**:`int`, **`threshold`**:`float`, **`min_size`**:`int`)\n",
       "\n",
       "Call the object with prediction attributes, \n",
       "it calls [`Predict.get_predictions`](/steel_segmentation/predict.html#Predict.get_predictions)\n",
       "and returns the [`Predict.df`](/steel_segmentation/predict.html#Predict.df) DataFrame with RLEs."
      ],
      "text/plain": [
       "<IPython.core.display.Markdown object>"
      ]
     },
     "metadata": {},
     "output_type": "display_data"
    }
   ],
   "source": [
    "show_doc(FastPredict.__call__)"
   ]
  },
  {
   "cell_type": "code",
   "execution_count": null,
   "metadata": {},
   "outputs": [],
   "source": [
    "size_fold = 100\n",
    "threshold = 0.5\n",
    "min_size = 3000"
   ]
  },
  {
   "cell_type": "code",
   "execution_count": null,
   "metadata": {},
   "outputs": [
    {
     "name": "stdout",
     "output_type": "stream",
     "text": [
      "From 0 to 1 of 1\n"
     ]
    },
    {
     "data": {
      "text/html": [],
      "text/plain": [
       "<IPython.core.display.HTML object>"
      ]
     },
     "metadata": {},
     "output_type": "display_data"
    },
    {
     "name": "stdout",
     "output_type": "stream",
     "text": [
      "(4, 2)\n"
     ]
    },
    {
     "data": {
      "text/html": [
       "<div>\n",
       "<style scoped>\n",
       "    .dataframe tbody tr th:only-of-type {\n",
       "        vertical-align: middle;\n",
       "    }\n",
       "\n",
       "    .dataframe tbody tr th {\n",
       "        vertical-align: top;\n",
       "    }\n",
       "\n",
       "    .dataframe thead th {\n",
       "        text-align: right;\n",
       "    }\n",
       "</style>\n",
       "<table border=\"1\" class=\"dataframe\">\n",
       "  <thead>\n",
       "    <tr style=\"text-align: right;\">\n",
       "      <th></th>\n",
       "      <th>ImageId_ClassId</th>\n",
       "      <th>EncodedPixels</th>\n",
       "    </tr>\n",
       "  </thead>\n",
       "  <tbody>\n",
       "    <tr>\n",
       "      <th>0</th>\n",
       "      <td>72aaba8ad.jpg_1</td>\n",
       "      <td></td>\n",
       "    </tr>\n",
       "    <tr>\n",
       "      <th>1</th>\n",
       "      <td>72aaba8ad.jpg_2</td>\n",
       "      <td></td>\n",
       "    </tr>\n",
       "    <tr>\n",
       "      <th>2</th>\n",
       "      <td>72aaba8ad.jpg_3</td>\n",
       "      <td>514 1 524 1 530 2 542 2 546 2 553 1 564 1 567 1 770 1 772 89 862 21 884 2 889 1 1024 124 1280 3 1285 57 1343 17 1365 1 1376 1 1378 2 1382 2 1385 5 1391 1 1538 2 1541 63 1609 5 1615 2 1620 2 1633 1 1637 5 1644 4 1794 1 1798 62 1867 3 1871 2 1874 1 1877 1 1888 2 1895 1 1903 1 2050 1 2054 1 2056 18 2076 6 2089 30 2122 10 2133 1 2144 5 2150 3 2158 2 2306 1 2308 3 2316 12 2329 1 2332 6 2340 32 2373 3 2377 13 2400 9 2562 112 2678 2 2816 1 2818 103 2924 2 2935 1 3072 92 3166 8 3176 1 3180 2 3184 2 3188 4 3328 114 3444 4 3449 2 3452 1 3584 112 3700 3 3704 7 3840 93 3934 16 3957 2 3961 3 3965 2 409...</td>\n",
       "    </tr>\n",
       "    <tr>\n",
       "      <th>3</th>\n",
       "      <td>72aaba8ad.jpg_4</td>\n",
       "      <td></td>\n",
       "    </tr>\n",
       "  </tbody>\n",
       "</table>\n",
       "</div>"
      ],
      "text/plain": [
       "   ImageId_ClassId  \\\n",
       "0  72aaba8ad.jpg_1   \n",
       "1  72aaba8ad.jpg_2   \n",
       "2  72aaba8ad.jpg_3   \n",
       "3  72aaba8ad.jpg_4   \n",
       "\n",
       "                                                                                                                                                                                                                                                                                                                                                                                                                                                                                                                                                                                                             EncodedPixels  \n",
       "0                                                                                                                                                                                                                                                                                                                                                                                                                                                                                                                                                                                                                           \n",
       "1                                                                                                                                                                                                                                                                                                                                                                                                                                                                                                                                                                                                                           \n",
       "2  514 1 524 1 530 2 542 2 546 2 553 1 564 1 567 1 770 1 772 89 862 21 884 2 889 1 1024 124 1280 3 1285 57 1343 17 1365 1 1376 1 1378 2 1382 2 1385 5 1391 1 1538 2 1541 63 1609 5 1615 2 1620 2 1633 1 1637 5 1644 4 1794 1 1798 62 1867 3 1871 2 1874 1 1877 1 1888 2 1895 1 1903 1 2050 1 2054 1 2056 18 2076 6 2089 30 2122 10 2133 1 2144 5 2150 3 2158 2 2306 1 2308 3 2316 12 2329 1 2332 6 2340 32 2373 3 2377 13 2400 9 2562 112 2678 2 2816 1 2818 103 2924 2 2935 1 3072 92 3166 8 3176 1 3180 2 3184 2 3188 4 3328 114 3444 4 3449 2 3452 1 3584 112 3700 3 3704 7 3840 93 3934 16 3957 2 3961 3 3965 2 409...  \n",
       "3                                                                                                                                                                                                                                                                                                                                                                                                                                                                                                                                                                                                                           "
      ]
     },
     "execution_count": null,
     "metadata": {},
     "output_type": "execute_result"
    }
   ],
   "source": [
    "df_pred = pred(size_fold, threshold, min_size)\n",
    "print(df_pred.shape)\n",
    "df_pred.head()"
   ]
  },
  {
   "cell_type": "code",
   "execution_count": null,
   "metadata": {},
   "outputs": [
    {
     "name": "stdout",
     "output_type": "stream",
     "text": [
      "(1, 4)\n",
      "From 0 to 1 of 1\n"
     ]
    },
    {
     "data": {
      "text/html": [],
      "text/plain": [
       "<IPython.core.display.HTML object>"
      ]
     },
     "metadata": {},
     "output_type": "display_data"
    },
    {
     "data": {
      "text/html": [
       "<div>\n",
       "<style scoped>\n",
       "    .dataframe tbody tr th:only-of-type {\n",
       "        vertical-align: middle;\n",
       "    }\n",
       "\n",
       "    .dataframe tbody tr th {\n",
       "        vertical-align: top;\n",
       "    }\n",
       "\n",
       "    .dataframe thead th {\n",
       "        text-align: right;\n",
       "    }\n",
       "</style>\n",
       "<table border=\"1\" class=\"dataframe\">\n",
       "  <thead>\n",
       "    <tr style=\"text-align: right;\">\n",
       "      <th></th>\n",
       "      <th>ImageId_ClassId</th>\n",
       "      <th>EncodedPixels</th>\n",
       "    </tr>\n",
       "  </thead>\n",
       "  <tbody>\n",
       "    <tr>\n",
       "      <th>0</th>\n",
       "      <td>72aaba8ad.jpg_1</td>\n",
       "      <td></td>\n",
       "    </tr>\n",
       "    <tr>\n",
       "      <th>1</th>\n",
       "      <td>72aaba8ad.jpg_2</td>\n",
       "      <td></td>\n",
       "    </tr>\n",
       "    <tr>\n",
       "      <th>2</th>\n",
       "      <td>72aaba8ad.jpg_3</td>\n",
       "      <td>514 1 524 1 530 2 542 2 546 2 553 1 564 1 567 1 770 1 772 89 862 21 884 2 889 1 1024 124 1280 3 1285 57 1343 17 1365 1 1376 1 1378 2 1382 2 1385 5 1391 1 1538 2 1541 63 1609 5 1615 2 1620 2 1633 1 1637 5 1644 4 1794 1 1798 62 1867 3 1871 2 1874 1 1877 1 1888 2 1895 1 1903 1 2050 1 2054 1 2056 18 2076 6 2089 30 2122 10 2133 1 2144 5 2150 3 2158 2 2306 1 2308 3 2316 12 2329 1 2332 6 2340 32 2373 3 2377 13 2400 9 2562 112 2678 2 2816 1 2818 103 2924 2 2935 1 3072 92 3166 8 3176 1 3180 2 3184 2 3188 4 3328 114 3444 4 3449 2 3452 1 3584 112 3700 3 3704 7 3840 93 3934 16 3957 2 3961 3 3965 2 409...</td>\n",
       "    </tr>\n",
       "    <tr>\n",
       "      <th>3</th>\n",
       "      <td>72aaba8ad.jpg_4</td>\n",
       "      <td></td>\n",
       "    </tr>\n",
       "  </tbody>\n",
       "</table>\n",
       "</div>"
      ],
      "text/plain": [
       "   ImageId_ClassId  \\\n",
       "0  72aaba8ad.jpg_1   \n",
       "1  72aaba8ad.jpg_2   \n",
       "2  72aaba8ad.jpg_3   \n",
       "3  72aaba8ad.jpg_4   \n",
       "\n",
       "                                                                                                                                                                                                                                                                                                                                                                                                                                                                                                                                                                                                             EncodedPixels  \n",
       "0                                                                                                                                                                                                                                                                                                                                                                                                                                                                                                                                                                                                                           \n",
       "1                                                                                                                                                                                                                                                                                                                                                                                                                                                                                                                                                                                                                           \n",
       "2  514 1 524 1 530 2 542 2 546 2 553 1 564 1 567 1 770 1 772 89 862 21 884 2 889 1 1024 124 1280 3 1285 57 1343 17 1365 1 1376 1 1378 2 1382 2 1385 5 1391 1 1538 2 1541 63 1609 5 1615 2 1620 2 1633 1 1637 5 1644 4 1794 1 1798 62 1867 3 1871 2 1874 1 1877 1 1888 2 1895 1 1903 1 2050 1 2054 1 2056 18 2076 6 2089 30 2122 10 2133 1 2144 5 2150 3 2158 2 2306 1 2308 3 2316 12 2329 1 2332 6 2340 32 2373 3 2377 13 2400 9 2562 112 2678 2 2816 1 2818 103 2924 2 2935 1 3072 92 3166 8 3176 1 3180 2 3184 2 3188 4 3328 114 3444 4 3449 2 3452 1 3584 112 3700 3 3704 7 3840 93 3934 16 3957 2 3961 3 3965 2 409...  \n",
       "3                                                                                                                                                                                                                                                                                                                                                                                                                                                                                                                                                                                                                           "
      ]
     },
     "execution_count": null,
     "metadata": {},
     "output_type": "execute_result"
    }
   ],
   "source": [
    "df_tmp = train.iloc[0].to_frame().T # one element\n",
    "print(df_tmp.shape)\n",
    "\n",
    "pred = FastPredict(df_tmp, segmentation_learner)\n",
    "\n",
    "df_pred = pred(size_fold, threshold, min_size)\n",
    "df_pred"
   ]
  },
  {
   "cell_type": "code",
   "execution_count": null,
   "metadata": {},
   "outputs": [
    {
     "name": "stdout",
     "output_type": "stream",
     "text": [
      "From 0 to 1 of 1\n"
     ]
    },
    {
     "data": {
      "text/html": [],
      "text/plain": [
       "<IPython.core.display.HTML object>"
      ]
     },
     "metadata": {},
     "output_type": "display_data"
    },
    {
     "data": {
      "text/html": [
       "<div>\n",
       "<style scoped>\n",
       "    .dataframe tbody tr th:only-of-type {\n",
       "        vertical-align: middle;\n",
       "    }\n",
       "\n",
       "    .dataframe tbody tr th {\n",
       "        vertical-align: top;\n",
       "    }\n",
       "\n",
       "    .dataframe thead th {\n",
       "        text-align: right;\n",
       "    }\n",
       "</style>\n",
       "<table border=\"1\" class=\"dataframe\">\n",
       "  <thead>\n",
       "    <tr style=\"text-align: right;\">\n",
       "      <th></th>\n",
       "      <th>ImageId_ClassId</th>\n",
       "      <th>EncodedPixels</th>\n",
       "    </tr>\n",
       "  </thead>\n",
       "  <tbody>\n",
       "    <tr>\n",
       "      <th>0</th>\n",
       "      <td>f383950e8.jpg_1</td>\n",
       "      <td></td>\n",
       "    </tr>\n",
       "    <tr>\n",
       "      <th>1</th>\n",
       "      <td>f383950e8.jpg_2</td>\n",
       "      <td></td>\n",
       "    </tr>\n",
       "    <tr>\n",
       "      <th>2</th>\n",
       "      <td>f383950e8.jpg_3</td>\n",
       "      <td>514 1 516 1 527 17 551 4 560 2 566 3 571 1 603 1 770 1 772 112 886 1 888 3 892 2 1024 128 1281 75 1357 3 1364 2 1389 1 1536 1 1538 62 1601 2 1604 14 1620 2 1624 2 1642 2 1645 1 1792 67 1860 2 1864 11 1880 1 1899 1 2050 65 2116 13 2130 1 2136 4 2155 3 2305 2 2308 62 2371 13 2386 2 2389 1 2392 4 2400 2 2411 2 2560 94 2655 3 2659 11 2816 81 2898 2 2901 1 2903 3 2911 2 2917 4 2922 4 3072 92 3165 5 3174 6 3328 110 3584 110 3840 94 3935 15 4096 110 4352 110 4608 91 4704 1 4712 3 4717 1 4864 94 4959 5 4966 10 4979 1 4981 1 5120 107 5228 4 5233 7 5376 90 5469 1 5478 5 5485 1 5491 1 5632 108 5741 3...</td>\n",
       "    </tr>\n",
       "    <tr>\n",
       "      <th>3</th>\n",
       "      <td>f383950e8.jpg_4</td>\n",
       "      <td></td>\n",
       "    </tr>\n",
       "  </tbody>\n",
       "</table>\n",
       "</div>"
      ],
      "text/plain": [
       "   ImageId_ClassId  \\\n",
       "0  f383950e8.jpg_1   \n",
       "1  f383950e8.jpg_2   \n",
       "2  f383950e8.jpg_3   \n",
       "3  f383950e8.jpg_4   \n",
       "\n",
       "                                                                                                                                                                                                                                                                                                                                                                                                                                                                                                                                                                                                             EncodedPixels  \n",
       "0                                                                                                                                                                                                                                                                                                                                                                                                                                                                                                                                                                                                                           \n",
       "1                                                                                                                                                                                                                                                                                                                                                                                                                                                                                                                                                                                                                           \n",
       "2  514 1 516 1 527 17 551 4 560 2 566 3 571 1 603 1 770 1 772 112 886 1 888 3 892 2 1024 128 1281 75 1357 3 1364 2 1389 1 1536 1 1538 62 1601 2 1604 14 1620 2 1624 2 1642 2 1645 1 1792 67 1860 2 1864 11 1880 1 1899 1 2050 65 2116 13 2130 1 2136 4 2155 3 2305 2 2308 62 2371 13 2386 2 2389 1 2392 4 2400 2 2411 2 2560 94 2655 3 2659 11 2816 81 2898 2 2901 1 2903 3 2911 2 2917 4 2922 4 3072 92 3165 5 3174 6 3328 110 3584 110 3840 94 3935 15 4096 110 4352 110 4608 91 4704 1 4712 3 4717 1 4864 94 4959 5 4966 10 4979 1 4981 1 5120 107 5228 4 5233 7 5376 90 5469 1 5478 5 5485 1 5491 1 5632 108 5741 3...  \n",
       "3                                                                                                                                                                                                                                                                                                                                                                                                                                                                                                                                                                                                                           "
      ]
     },
     "execution_count": null,
     "metadata": {},
     "output_type": "execute_result"
    }
   ],
   "source": [
    "source = \"f383950e8.jpg\"\n",
    "pred = FastPredict(source, segmentation_learner) # with str source\n",
    "df_pred = pred(size_fold, threshold, min_size)\n",
    "df_pred"
   ]
  },
  {
   "cell_type": "code",
   "execution_count": null,
   "metadata": {},
   "outputs": [
    {
     "data": {
      "text/markdown": [
       "<h4 id=\"FastPredict.make_masks\" class=\"doc_header\"><code>FastPredict.make_masks</code><a href=\"__main__.py#L154\" class=\"source_link\" style=\"float:right\">[source]</a></h4>\n",
       "\n",
       "> <code>FastPredict.make_masks</code>()\n",
       "\n",
       "Iterate through the RLEs in [`Predict.df`](/steel_segmentation/predict.html#Predict.df) and save the masks.\n",
       "Returns the [`Predict.df_masks`](/steel_segmentation/predict.html#Predict.df_masks) DataFrame (if not `json`) with\n",
       "`columns=['ImageId', 'ClassId', 'Mask_path']`."
      ],
      "text/plain": [
       "<IPython.core.display.Markdown object>"
      ]
     },
     "metadata": {},
     "output_type": "display_data"
    }
   ],
   "source": [
    "show_doc(FastPredict.make_masks)"
   ]
  },
  {
   "cell_type": "code",
   "execution_count": null,
   "metadata": {},
   "outputs": [
    {
     "data": {
      "text/html": [
       "<div>\n",
       "<style scoped>\n",
       "    .dataframe tbody tr th:only-of-type {\n",
       "        vertical-align: middle;\n",
       "    }\n",
       "\n",
       "    .dataframe tbody tr th {\n",
       "        vertical-align: top;\n",
       "    }\n",
       "\n",
       "    .dataframe thead th {\n",
       "        text-align: right;\n",
       "    }\n",
       "</style>\n",
       "<table border=\"1\" class=\"dataframe\">\n",
       "  <thead>\n",
       "    <tr style=\"text-align: right;\">\n",
       "      <th></th>\n",
       "      <th>ImageId</th>\n",
       "      <th>ClassId</th>\n",
       "      <th>Mask_path</th>\n",
       "    </tr>\n",
       "  </thead>\n",
       "  <tbody>\n",
       "    <tr>\n",
       "      <th>0</th>\n",
       "      <td>f383950e8.jpg</td>\n",
       "      <td>3</td>\n",
       "      <td>f383950e8_pred.png</td>\n",
       "    </tr>\n",
       "  </tbody>\n",
       "</table>\n",
       "</div>"
      ],
      "text/plain": [
       "         ImageId ClassId           Mask_path\n",
       "0  f383950e8.jpg       3  f383950e8_pred.png"
      ]
     },
     "execution_count": null,
     "metadata": {},
     "output_type": "execute_result"
    }
   ],
   "source": [
    "pred.make_masks()"
   ]
  },
  {
   "cell_type": "code",
   "execution_count": null,
   "metadata": {},
   "outputs": [
    {
     "data": {
      "text/markdown": [
       "<h4 id=\"FastPredict.save_masks\" class=\"doc_header\"><code>FastPredict.save_masks</code><a href=\"__main__.py#L126\" class=\"source_link\" style=\"float:right\">[source]</a></h4>\n",
       "\n",
       "> <code>FastPredict.save_masks</code>(**`df_export_fname`**=*`None`*, **`make_zip`**=*`True`*)\n",
       "\n",
       "If `df_export_fname` save predicted masks in \n",
       "`pred_path / df_export_fname` in CSV and the JSON.\n",
       "Otherwise the file are named \"predictions.csv\" and \"predictions.json\".\n",
       "Saving the zip of the masks if `make_zip`.\n",
       "\n",
       "Run this method after __call__."
      ],
      "text/plain": [
       "<IPython.core.display.Markdown object>"
      ]
     },
     "metadata": {},
     "output_type": "display_data"
    }
   ],
   "source": [
    "show_doc(FastPredict.save_masks)"
   ]
  },
  {
   "cell_type": "code",
   "execution_count": null,
   "metadata": {},
   "outputs": [],
   "source": [
    "pred.save_masks()"
   ]
  },
  {
   "cell_type": "code",
   "execution_count": null,
   "metadata": {},
   "outputs": [
    {
     "data": {
      "text/plain": [
       "(#8) [Path('../data/predictions/validation_masks.json'),Path('../data/predictions/validation_masks.zip'),Path('../data/predictions/predictions.csv'),Path('../data/predictions/.ipynb_checkpoints'),Path('../data/predictions/validation_masks.csv'),Path('../data/predictions/predictions.zip'),Path('../data/predictions/predictions.json'),Path('../data/predictions/prediction_masks')]"
      ]
     },
     "execution_count": null,
     "metadata": {},
     "output_type": "execute_result"
    }
   ],
   "source": [
    "pred_path.ls()"
   ]
  },
  {
   "cell_type": "code",
   "execution_count": null,
   "metadata": {},
   "outputs": [
    {
     "data": {
      "text/markdown": [
       "<h4 id=\"FastPredict.save_submission\" class=\"doc_header\"><code>FastPredict.save_submission</code><a href=\"__main__.py#L194\" class=\"source_link\" style=\"float:right\">[source]</a></h4>\n",
       "\n",
       "> <code>FastPredict.save_submission</code>(**`fname`**=*`'test_submission'`*)\n",
       "\n",
       "Save submission file in CSV in [`sub_path`](/steel_segmentation/metadata.html#sub_path). \n",
       "It adds always .csv at the end of `fname`."
      ],
      "text/plain": [
       "<IPython.core.display.Markdown object>"
      ]
     },
     "metadata": {},
     "output_type": "display_data"
    }
   ],
   "source": [
    "show_doc(FastPredict.save_submission)"
   ]
  },
  {
   "cell_type": "code",
   "execution_count": null,
   "metadata": {},
   "outputs": [],
   "source": [
    "pred.save_submission()"
   ]
  },
  {
   "cell_type": "code",
   "execution_count": null,
   "metadata": {},
   "outputs": [],
   "source": [
    "tmp_path = sub_path/\"test_submission.csv\"\n",
    "assert tmp_path.is_file()"
   ]
  },
  {
   "cell_type": "code",
   "execution_count": null,
   "metadata": {},
   "outputs": [],
   "source": [
    "#| include: false\n",
    "# show_doc(FastPredict.plot)"
   ]
  },
  {
   "cell_type": "code",
   "execution_count": null,
   "metadata": {},
   "outputs": [],
   "source": [
    "#| include: false\n",
    "#pred.plot(n=1, rand=False)"
   ]
  },
  {
   "cell_type": "markdown",
   "metadata": {},
   "source": [
    "## Pytorch prediction"
   ]
  },
  {
   "cell_type": "code",
   "execution_count": null,
   "metadata": {},
   "outputs": [],
   "source": [
    "#| export\n",
    "class TestDataset(Dataset):\n",
    "    \"\"\"Dataset for test prediction\"\"\"\n",
    "\n",
    "    def __init__(self, root:pathlib.Path, df:pd.DataFrame, mean=None, std=None):\n",
    "        \"\"\"\n",
    "        A TestDataset loads the images from the `root` folder\n",
    "        and the `ImageId`s from `df` with normalization params.\n",
    "        \"\"\"\n",
    "        self.root = root\n",
    "        self.fnames = df['ImageId'].unique().tolist()\n",
    "        self.num_samples = len(self.fnames)\n",
    "        \n",
    "        if (mean is None) or (std is None): \n",
    "            mean, std = imagenet_stats\n",
    "            \n",
    "        self.transform = alb.Compose(\n",
    "            [\n",
    "                alb.Normalize(mean=mean, std=std, p=1),\n",
    "                alb.pytorch.ToTensor(),\n",
    "            ]\n",
    "        )\n",
    "\n",
    "    def __getitem__(self, idx):\n",
    "        fname = self.fnames[idx]\n",
    "        fpath = self.root / fname\n",
    "        image = cv2.imread(str(fpath))\n",
    "        image_tensor = self.transform(image=image)[\"image\"]\n",
    "        return fname, image_tensor\n",
    "\n",
    "    def __len__(self):\n",
    "        return self.num_samples"
   ]
  },
  {
   "cell_type": "code",
   "execution_count": null,
   "metadata": {},
   "outputs": [
    {
     "data": {
      "text/html": [
       "<div>\n",
       "<style scoped>\n",
       "    .dataframe tbody tr th:only-of-type {\n",
       "        vertical-align: middle;\n",
       "    }\n",
       "\n",
       "    .dataframe tbody tr th {\n",
       "        vertical-align: top;\n",
       "    }\n",
       "\n",
       "    .dataframe thead th {\n",
       "        text-align: right;\n",
       "    }\n",
       "</style>\n",
       "<table border=\"1\" class=\"dataframe\">\n",
       "  <thead>\n",
       "    <tr style=\"text-align: right;\">\n",
       "      <th>ClassId</th>\n",
       "      <th>ImageId</th>\n",
       "      <th>ClassId_multi</th>\n",
       "    </tr>\n",
       "  </thead>\n",
       "  <tbody>\n",
       "    <tr>\n",
       "      <th>0</th>\n",
       "      <td>0002cc93b.jpg</td>\n",
       "      <td>1</td>\n",
       "    </tr>\n",
       "    <tr>\n",
       "      <th>1</th>\n",
       "      <td>00031f466.jpg</td>\n",
       "      <td>0</td>\n",
       "    </tr>\n",
       "    <tr>\n",
       "      <th>2</th>\n",
       "      <td>000418bfc.jpg</td>\n",
       "      <td>0</td>\n",
       "    </tr>\n",
       "  </tbody>\n",
       "</table>\n",
       "</div>"
      ],
      "text/plain": [
       "ClassId        ImageId ClassId_multi\n",
       "0        0002cc93b.jpg             1\n",
       "1        00031f466.jpg             0\n",
       "2        000418bfc.jpg             0"
      ]
     },
     "execution_count": null,
     "metadata": {},
     "output_type": "execute_result"
    }
   ],
   "source": [
    "train_multi.head(3)"
   ]
  },
  {
   "cell_type": "code",
   "execution_count": null,
   "metadata": {},
   "outputs": [],
   "source": [
    "test_dataset = TestDataset(root=train_path, df=train_multi)"
   ]
  },
  {
   "cell_type": "code",
   "execution_count": null,
   "metadata": {},
   "outputs": [
    {
     "data": {
      "text/plain": [
       "('0002cc93b.jpg', torch.Size([3, 256, 1600]))"
      ]
     },
     "execution_count": null,
     "metadata": {},
     "output_type": "execute_result"
    }
   ],
   "source": [
    "#| missing\n",
    "img_name, img_tensor = test_dataset[0]\n",
    "img_name, img_tensor.shape"
   ]
  },
  {
   "cell_type": "code",
   "execution_count": null,
   "metadata": {},
   "outputs": [
    {
     "name": "stderr",
     "output_type": "stream",
     "text": [
      "Clipping input data to the valid range for imshow with RGB data ([0..1] for floats or [0..255] for integers).\n"
     ]
    },
    {
     "data": {
      "image/png": "[encoded data removed]",
      "text/plain": [
       "<Figure size 1080x360 with 1 Axes>"
      ]
     },
     "metadata": {
      "needs_background": "light"
     },
     "output_type": "display_data"
    }
   ],
   "source": [
    "#| missing\n",
    "show_image(img_tensor, figsize=(15,5));"
   ]
  },
  {
   "cell_type": "code",
   "execution_count": null,
   "metadata": {},
   "outputs": [],
   "source": [
    "#| export\n",
    "def get_test_dls(\n",
    "        root:pathlib.Path=None, df:pd.DataFrame=None, mean=None, std=None,\n",
    "        num_workers=2, batch_size=4, shuffle=False, pin_memory=True,\n",
    "        *args, **kwargs\n",
    "    ):\n",
    "    \"\"\"Returns a Pytorch Dataloader for inference.\"\"\"\n",
    "    if df is None: df = test_df\n",
    "    if root is None: root = test_path\n",
    "    \n",
    "    return DataLoader(\n",
    "        TestDataset(root, df, mean, std),\n",
    "        batch_size=batch_size,\n",
    "        shuffle=shuffle,\n",
    "        num_workers=num_workers,\n",
    "        pin_memory=pin_memory,\n",
    "        *args, **kwargs\n",
    "    )"
   ]
  },
  {
   "cell_type": "markdown",
   "metadata": {},
   "source": [
    "To make predictions we need to iterate through the dataset and grab one batch at the time. The `get_test_dls` function returns by default a `DataLoader` built on the `test_df` (submission csv) and `test_path` directory (test images). Without any argument can be used to make the submission to the Kaggle competition."
   ]
  },
  {
   "cell_type": "code",
   "execution_count": null,
   "metadata": {},
   "outputs": [],
   "source": [
    "#| missing\n",
    "test_dls = get_test_dls()\n",
    "test_eq(len(test_dls), 1377)"
   ]
  },
  {
   "cell_type": "code",
   "execution_count": null,
   "metadata": {},
   "outputs": [
    {
     "data": {
      "text/plain": [
       "(['0000f269f.jpg', '000ccc2ac.jpg', '002451917.jpg', '003c5da97.jpg'],\n",
       " torch.Size([4, 3, 256, 1600]))"
      ]
     },
     "execution_count": null,
     "metadata": {},
     "output_type": "execute_result"
    }
   ],
   "source": [
    "#| missing\n",
    "namesb, xb = next(iter(test_dls))\n",
    "namesb, xb.shape"
   ]
  },
  {
   "cell_type": "markdown",
   "metadata": {},
   "source": [
    "To load the validation images:"
   ]
  },
  {
   "cell_type": "code",
   "execution_count": null,
   "metadata": {},
   "outputs": [],
   "source": [
    "#| missing\n",
    "valid_dls = get_test_dls(root=train_path, df=train_multi.sample(100))\n",
    "test_eq(len(valid_dls), 25) # with 4 batch size"
   ]
  },
  {
   "cell_type": "code",
   "execution_count": null,
   "metadata": {},
   "outputs": [],
   "source": [
    "#| export\n",
    "class Predict:\n",
    "    def __init__(self, dl, model, device=\"cuda\"):\n",
    "        self.dl = dl\n",
    "        self.source = self.dl.dataset.fnames\n",
    "        self.source_path = self.dl.dataset.root\n",
    "        self.img_paths = L([self.source_path / p for p in self.source])\n",
    "        self.elems = len(self.img_paths)\n",
    "\n",
    "        self.device = torch.device(device)\n",
    "        self.model = model.to(self.device)\n",
    "        \n",
    "    def __call__(self, threshold:float, min_size:int):\n",
    "        \"\"\"\n",
    "        Call the object with prediction attributes, \n",
    "        it calls `Predict.get_predictions`\n",
    "        and returns the `Predict.df` DataFrame with RLEs.\n",
    "        \"\"\"\n",
    "        self.threshold = threshold\n",
    "        self.min_size = min_size      \n",
    "        self.df = self.get_predictions()\n",
    "        return self.df\n",
    "    \n",
    "    def get_predictions(self):\n",
    "        \"\"\"\n",
    "        Iterate through `dl`, predict the mask and\n",
    "        save the RLEs in a DataFrame.\n",
    "        Returns the DataFrame.\n",
    "        \"\"\"\n",
    "        df_preds = []\n",
    "        for i, batch in enumerate(tqdm(self.dl)):\n",
    "            fnames, images = batch\n",
    "            \n",
    "            batch_preds = self.predict_batch(images)\n",
    "            \n",
    "            for fname, preds in zip(fnames, batch_preds):\n",
    "                for cls, pred in enumerate(preds):\n",
    "                    pred, num = self.post_process(pred)\n",
    "                    rle = mask2rle(pred)\n",
    "                    name = fname + f\"_{cls+1}\"\n",
    "                    df_preds.append([name, rle])\n",
    "                    \n",
    "        return pd.DataFrame(df_preds, columns=['ImageId_ClassId', 'EncodedPixels'])\n",
    "    \n",
    "    def predict_batch(self, images):\n",
    "        \"\"\"Predict a single batch, returns the probabilities into numpy array\"\"\"\n",
    "        \n",
    "        batch_preds = torch.sigmoid(self.model(images.to(self.device)))\n",
    "        return batch_preds.detach().cpu().numpy()\n",
    "    \n",
    "    def post_process(self, probability):\n",
    "        \"\"\"\n",
    "        Post processing of each predicted mask, components with lesser number of pixels\n",
    "        than `min_size` are ignored.\n",
    "        \"\"\"\n",
    "        mask = cv2.threshold(probability, self.threshold, 1, cv2.THRESH_BINARY)[1]\n",
    "        num_component, component = cv2.connectedComponents(mask.astype(np.uint8))\n",
    "        predictions = np.zeros((256, 1600), np.float32)\n",
    "        num = 0\n",
    "        for c in range(1, num_component):\n",
    "            p = (component == c)\n",
    "            if p.sum() > self.min_size:\n",
    "                predictions[p] = 1\n",
    "                num += 1\n",
    "        return predictions, num\n",
    "    \n",
    "    def save_submission(self, fname=\"test_submission\"):\n",
    "        \"\"\"Save submission file in CSV in `sub_path`. \n",
    "        It adds always .csv at the end of `fname`.\"\"\"\n",
    "        if not hasattr(self, 'df'):\n",
    "            raise KeyError(\"Call the object first to get the predictions\")\n",
    "        \n",
    "        file_path = sub_path / (fname + '.csv')\n",
    "        self.df.to_csv(file_path, index=False)"
   ]
  },
  {
   "cell_type": "code",
   "execution_count": null,
   "metadata": {},
   "outputs": [
    {
     "data": {
      "text/plain": [
       "<All keys matched successfully>"
      ]
     },
     "execution_count": null,
     "metadata": {},
     "output_type": "execute_result"
    }
   ],
   "source": [
    "#| missing\n",
    "ckpt_path = models_dir/\"kaggle-FPN-ResNet34.pth\"\n",
    "model = smp.FPN(\"resnet34\", encoder_weights='imagenet', classes=4, activation=None)\n",
    "model.eval()\n",
    "state = torch.load(ckpt_path, map_location=lambda storage, loc: storage)\n",
    "model.load_state_dict(state[\"state_dict\"])"
   ]
  },
  {
   "cell_type": "code",
   "execution_count": null,
   "metadata": {},
   "outputs": [],
   "source": [
    "#| missing\n",
    "pred = Predict(valid_dls, model)"
   ]
  },
  {
   "cell_type": "code",
   "execution_count": null,
   "metadata": {},
   "outputs": [],
   "source": [
    "threshold = 0.5\n",
    "min_size = 3000"
   ]
  },
  {
   "cell_type": "code",
   "execution_count": null,
   "metadata": {},
   "outputs": [
    {
     "name": "stderr",
     "output_type": "stream",
     "text": [
      "100%|██████████| 25/25 [00:07<00:00,  3.39it/s]\n"
     ]
    }
   ],
   "source": [
    "#| missing\n",
    "df_preds = pred(threshold, 1500)"
   ]
  },
  {
   "cell_type": "code",
   "execution_count": null,
   "metadata": {},
   "outputs": [
    {
     "data": {
      "text/html": [
       "<div>\n",
       "<style scoped>\n",
       "    .dataframe tbody tr th:only-of-type {\n",
       "        vertical-align: middle;\n",
       "    }\n",
       "\n",
       "    .dataframe tbody tr th {\n",
       "        vertical-align: top;\n",
       "    }\n",
       "\n",
       "    .dataframe thead th {\n",
       "        text-align: right;\n",
       "    }\n",
       "</style>\n",
       "<table border=\"1\" class=\"dataframe\">\n",
       "  <thead>\n",
       "    <tr style=\"text-align: right;\">\n",
       "      <th></th>\n",
       "      <th>ImageId_ClassId</th>\n",
       "      <th>EncodedPixels</th>\n",
       "    </tr>\n",
       "  </thead>\n",
       "  <tbody>\n",
       "    <tr>\n",
       "      <th>96</th>\n",
       "      <td>1501f53a2.jpg_1</td>\n",
       "      <td></td>\n",
       "    </tr>\n",
       "    <tr>\n",
       "      <th>118</th>\n",
       "      <td>6c9efa832.jpg_3</td>\n",
       "      <td></td>\n",
       "    </tr>\n",
       "    <tr>\n",
       "      <th>111</th>\n",
       "      <td>30fc6e17e.jpg_4</td>\n",
       "      <td></td>\n",
       "    </tr>\n",
       "    <tr>\n",
       "      <th>237</th>\n",
       "      <td>cc12d964f.jpg_2</td>\n",
       "      <td></td>\n",
       "    </tr>\n",
       "    <tr>\n",
       "      <th>45</th>\n",
       "      <td>af1cd15ef.jpg_2</td>\n",
       "      <td></td>\n",
       "    </tr>\n",
       "  </tbody>\n",
       "</table>\n",
       "</div>"
      ],
      "text/plain": [
       "     ImageId_ClassId EncodedPixels\n",
       "96   1501f53a2.jpg_1              \n",
       "118  6c9efa832.jpg_3              \n",
       "111  30fc6e17e.jpg_4              \n",
       "237  cc12d964f.jpg_2              \n",
       "45   af1cd15ef.jpg_2              "
      ]
     },
     "execution_count": null,
     "metadata": {},
     "output_type": "execute_result"
    }
   ],
   "source": [
    "#| missing\n",
    "df_preds.sample(5)"
   ]
  },
  {
   "cell_type": "code",
   "execution_count": null,
   "metadata": {},
   "outputs": [
    {
     "name": "stdout",
     "output_type": "stream",
     "text": [
      "Converted 01_metadata.ipynb.\n",
      "Converted 02_masks.ipynb.\n",
      "Converted 03_datasets.ipynb.\n",
      "Converted 04_dataloaders.ipynb.\n",
      "Converted 05_metrics.ipynb.\n",
      "Converted 06_loss.ipynb.\n",
      "Converted 07_trainer.ipynb.\n",
      "Converted 08_predict.ipynb.\n",
      "Converted 09_visualize.ipynb.\n",
      "Converted index.ipynb.\n"
     ]
    }
   ],
   "source": [
    "#| include: false\n",
    "from nbdev import nbdev_export\n",
    "\n",
    "nbdev_export()"
   ]
  }
 ],
 "metadata": {
  "kernelspec": {
   "display_name": "Python 3",
   "language": "python",
   "name": "python3"
  }
 },
 "nbformat": 4,
 "nbformat_minor": 4
}
