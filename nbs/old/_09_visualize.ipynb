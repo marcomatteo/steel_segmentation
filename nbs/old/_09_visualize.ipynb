{
 "cells": [
  {
   "cell_type": "raw",
   "metadata": {},
   "source": [
    "---\n",
    "description: An interactive notebook with IPywidgets to visualize model predictions\n",
    "  and groundtruth.\n",
    "output-file: _09_visualize.html\n",
    "title: Visualize results\n",
    "\n",
    "---\n",
    "\n"
   ]
  },
  {
   "cell_type": "code",
   "execution_count": null,
   "metadata": {},
   "outputs": [],
   "source": [
    "#| include: false\n",
    "#| missing\n",
    "#!git clone https://github.com/marcomatteo/steel_segmentation.git\n",
    "#!pip install -e steel_segmentation"
   ]
  },
  {
   "cell_type": "markdown",
   "metadata": {},
   "source": [
    "[![Open In Colab](https://colab.research.google.com/assets/colab-badge.svg)](https://colab.research.google.com/github/marcomatteo/steel_segmentation/blob/master/nbs/09_visualize.ipynb)"
   ]
  },
  {
   "cell_type": "code",
   "execution_count": null,
   "metadata": {},
   "outputs": [],
   "source": [
    "#| include: false\n",
    "%load_ext autoreload\n",
    "%autoreload 2\n",
    "%matplotlib inline"
   ]
  },
  {
   "cell_type": "code",
   "execution_count": null,
   "metadata": {},
   "outputs": [],
   "source": [
    "#| include: false\n",
    "from nbdev.showdoc import *"
   ]
  },
  {
   "cell_type": "code",
   "execution_count": null,
   "metadata": {},
   "outputs": [],
   "source": [
    "import ipywidgets as widgets\n",
    "from ipywidgets import interact, interact_manual, interactive\n",
    "from IPython.display import Image\n",
    "\n",
    "from steel_segmentation.all import *\n",
    "from fastcore.all import L\n",
    "\n",
    "import os\n",
    "from pathlib import Path\n",
    "import pandas as pd\n",
    "import numpy as np\n",
    "import cv2"
   ]
  },
  {
   "cell_type": "markdown",
   "metadata": {},
   "source": [
    "## Display utilities"
   ]
  },
  {
   "cell_type": "code",
   "execution_count": null,
   "metadata": {},
   "outputs": [],
   "source": [
    "def submission_preproccessing(df: pd.DataFrame) -> pd.DataFrame:\n",
    "    \"\"\"\n",
    "    Process a submission DataFrame and \n",
    "    splits the ImageId_ClassId column into ImageId and ClassId.\n",
    "    \"\"\"\n",
    "    if not (\"ImageId_ClassId\" in df.columns):\n",
    "        raise ValueError(\"Missing ImageId_ClassId column\")\n",
    "        \n",
    "    splitted_cols = df[\"ImageId_ClassId\"].str.split(\"_\", expand=True)\n",
    "    df[\"ImageId\"], df[\"ClassId\"] = splitted_cols[0], splitted_cols[1].astype(\"int64\")\n",
    "    \n",
    "    return df"
   ]
  },
  {
   "cell_type": "code",
   "execution_count": null,
   "metadata": {},
   "outputs": [],
   "source": [
    "def read_submission(file_name:str = \"ensemble_submission.csv\") -> pd.DataFrame:\n",
    "    \"\"\"\n",
    "    Open a submission csv file in the `sub_path` directory and\n",
    "    return the DataFrame preprocessed with `submission_preproccessing`.\n",
    "    \"\"\"\n",
    "    df = pd.read_csv(sub_path / file_name)\n",
    "    return submission_preproccessing(df)"
   ]
  },
  {
   "cell_type": "code",
   "execution_count": null,
   "metadata": {},
   "outputs": [
    {
     "data": {
      "text/html": [
       "<div>\n",
       "<style scoped>\n",
       "    .dataframe tbody tr th:only-of-type {\n",
       "        vertical-align: middle;\n",
       "    }\n",
       "\n",
       "    .dataframe tbody tr th {\n",
       "        vertical-align: top;\n",
       "    }\n",
       "\n",
       "    .dataframe thead th {\n",
       "        text-align: right;\n",
       "    }\n",
       "</style>\n",
       "<table border=\"1\" class=\"dataframe\">\n",
       "  <thead>\n",
       "    <tr style=\"text-align: right;\">\n",
       "      <th></th>\n",
       "      <th>ImageId_ClassId</th>\n",
       "      <th>EncodedPixels</th>\n",
       "      <th>ImageId</th>\n",
       "      <th>ClassId</th>\n",
       "    </tr>\n",
       "  </thead>\n",
       "  <tbody>\n",
       "    <tr>\n",
       "      <th>0</th>\n",
       "      <td>0000f269f.jpg_1</td>\n",
       "      <td>NaN</td>\n",
       "      <td>0000f269f.jpg</td>\n",
       "      <td>1</td>\n",
       "    </tr>\n",
       "    <tr>\n",
       "      <th>1</th>\n",
       "      <td>0000f269f.jpg_2</td>\n",
       "      <td>NaN</td>\n",
       "      <td>0000f269f.jpg</td>\n",
       "      <td>2</td>\n",
       "    </tr>\n",
       "    <tr>\n",
       "      <th>2</th>\n",
       "      <td>0000f269f.jpg_3</td>\n",
       "      <td>146418 5 146424 1 146577 30 146608 1 146610 1 146612 21 146638 48 146732 69 146802 1 146808 1 146810 1 146812 1 146820 125 146962 1 146976 225 147208 249 147461 252 147716 253 147971 254 148227 254 148483 254 148739 254 148995 254 149251 254 149507 254 149763 254 150019 254 150275 254 150532 253 150788 253 151045 252 151303 250 151563 246 151848 11 151862 13 151876 189 152152 169 152430 29 152489 1 152491 1 152493 6 152500 7 152557 12</td>\n",
       "      <td>0000f269f.jpg</td>\n",
       "      <td>3</td>\n",
       "    </tr>\n",
       "    <tr>\n",
       "      <th>3</th>\n",
       "      <td>0000f269f.jpg_4</td>\n",
       "      <td>NaN</td>\n",
       "      <td>0000f269f.jpg</td>\n",
       "      <td>4</td>\n",
       "    </tr>\n",
       "    <tr>\n",
       "      <th>4</th>\n",
       "      <td>000ccc2ac.jpg_1</td>\n",
       "      <td>NaN</td>\n",
       "      <td>000ccc2ac.jpg</td>\n",
       "      <td>1</td>\n",
       "    </tr>\n",
       "  </tbody>\n",
       "</table>\n",
       "</div>"
      ],
      "text/plain": [
       "   ImageId_ClassId  \\\n",
       "0  0000f269f.jpg_1   \n",
       "1  0000f269f.jpg_2   \n",
       "2  0000f269f.jpg_3   \n",
       "3  0000f269f.jpg_4   \n",
       "4  000ccc2ac.jpg_1   \n",
       "\n",
       "                                                                                                                                                                                                                                                                                                                                                                                                                                            EncodedPixels  \\\n",
       "0                                                                                                                                                                                                                                                                                                                                                                                                                                                     NaN   \n",
       "1                                                                                                                                                                                                                                                                                                                                                                                                                                                     NaN   \n",
       "2  146418 5 146424 1 146577 30 146608 1 146610 1 146612 21 146638 48 146732 69 146802 1 146808 1 146810 1 146812 1 146820 125 146962 1 146976 225 147208 249 147461 252 147716 253 147971 254 148227 254 148483 254 148739 254 148995 254 149251 254 149507 254 149763 254 150019 254 150275 254 150532 253 150788 253 151045 252 151303 250 151563 246 151848 11 151862 13 151876 189 152152 169 152430 29 152489 1 152491 1 152493 6 152500 7 152557 12   \n",
       "3                                                                                                                                                                                                                                                                                                                                                                                                                                                     NaN   \n",
       "4                                                                                                                                                                                                                                                                                                                                                                                                                                                     NaN   \n",
       "\n",
       "         ImageId  ClassId  \n",
       "0  0000f269f.jpg        1  \n",
       "1  0000f269f.jpg        2  \n",
       "2  0000f269f.jpg        3  \n",
       "3  0000f269f.jpg        4  \n",
       "4  000ccc2ac.jpg        1  "
      ]
     },
     "execution_count": null,
     "metadata": {},
     "output_type": "execute_result"
    }
   ],
   "source": [
    "file = \"ensemble_submission.csv\"\n",
    "file_df = read_submission(file)\n",
    "file_df.head()"
   ]
  },
  {
   "cell_type": "markdown",
   "metadata": {},
   "source": [
    "Display a sample of 5 images from `train_path`:"
   ]
  },
  {
   "cell_type": "code",
   "execution_count": null,
   "metadata": {},
   "outputs": [
    {
     "data": {
      "application/vnd.jupyter.widget-view+json": {
       "model_id": "444bdd8dd8514982b958b67b46387d30",
       "version_major": 2,
       "version_minor": 0
      },
      "text/plain": [
       "interactive(children=(Dropdown(description='file', options=('e33294689.jpg', '27f830690.jpg', '519e8199f.jpg',…"
      ]
     },
     "metadata": {},
     "output_type": "display_data"
    }
   ],
   "source": [
    "sample_images_from_path = L(os.listdir(str(train_path))).shuffle()[:5]\n",
    "\n",
    "@interact_manual \n",
    "def show_images(file=sample_images_from_path):\n",
    "    display(Image(train_path/file))"
   ]
  },
  {
   "cell_type": "markdown",
   "metadata": {},
   "source": [
    "## Display a test submission"
   ]
  },
  {
   "cell_type": "markdown",
   "metadata": {},
   "source": [
    "Per visualizzare un campione di 5 immagini, selezionare dall'elenco a discesa la *submission* e successivamente la *ClassId* e infine il nome dell'immagine."
   ]
  },
  {
   "cell_type": "code",
   "execution_count": null,
   "metadata": {},
   "outputs": [],
   "source": [
    "subs =[file for file in os.listdir(str(sub_path)) if file.endswith(\".csv\")]\n",
    "\n",
    "def read_sub_file_from_list(sub = subs) -> pd.DataFrame:\n",
    "    df = read_submission(sub)\n",
    "    return submission_preproccessing(df)\n",
    "\n",
    "def select_classid(ClassId=[1,2,3,4], n=5, shuffle=True):\n",
    "    df = submission.result\n",
    "    cond_NaN = df.EncodedPixels.notna()\n",
    "    cond_ClassId = df['ClassId'] == ClassId\n",
    "    result = df.loc[cond_NaN & cond_ClassId]\n",
    "    if shuffle: return result.sample(n=n, replace=True)\n",
    "    else: return result.head(n)\n",
    "\n",
    "def update_imgids(*args):\n",
    "    images.value = class_selection.result.loc[cond].ImageId.to_list()"
   ]
  },
  {
   "cell_type": "code",
   "execution_count": null,
   "metadata": {},
   "outputs": [
    {
     "data": {
      "application/vnd.jupyter.widget-view+json": {
       "model_id": "d64165381beb4bb4a70b63fab48d999a",
       "version_major": 2,
       "version_minor": 0
      },
      "text/plain": [
       "interactive(children=(Dropdown(description='sub', options=('resnet34_fastai_sub.csv', 'ensemble_submission.csv…"
      ]
     },
     "metadata": {},
     "output_type": "display_data"
    }
   ],
   "source": [
    "#| missing\n",
    "submission = interactive(read_sub_file_from_list)\n",
    "display(submission)"
   ]
  },
  {
   "cell_type": "code",
   "execution_count": null,
   "metadata": {},
   "outputs": [
    {
     "data": {
      "application/vnd.jupyter.widget-view+json": {
       "model_id": "895baf789ce34c788cded5f0fc675c10",
       "version_major": 2,
       "version_minor": 0
      },
      "text/plain": [
       "interactive(children=(Dropdown(description='ClassId', options=(1, 2, 3, 4), value=1), IntSlider(value=5, descr…"
      ]
     },
     "metadata": {},
     "output_type": "display_data"
    }
   ],
   "source": [
    "#| missing\n",
    "submission.observe(update_imgids, 'value')\n",
    "\n",
    "class_selection = interactive(select_classid)\n",
    "int_slider = class_selection.children[1]\n",
    "int_slider.min = 0\n",
    "int_slider.max = 50\n",
    "\n",
    "class_selection"
   ]
  },
  {
   "cell_type": "code",
   "execution_count": null,
   "metadata": {},
   "outputs": [
    {
     "data": {
      "application/vnd.jupyter.widget-view+json": {
       "model_id": "c31efbadd98047eb8fcc106821ad5cea",
       "version_major": 2,
       "version_minor": 0
      },
      "text/plain": [
       "interactive(children=(Dropdown(description='file', options=('db24670d4.jpg', '43b0dec37.jpg', '43b0dec37.jpg',…"
      ]
     },
     "metadata": {},
     "output_type": "display_data"
    }
   ],
   "source": [
    "#| missing\n",
    "df = class_selection.result\n",
    "images = widgets.Dropdown(options=df.ImageId.to_list())\n",
    "\n",
    "# Show the images\n",
    "def show_images(file):\n",
    "    row = df.loc[df[\"ImageId\"] == file].iloc[0]\n",
    "    rle = row[\"EncodedPixels\"]\n",
    "    classid = row[\"ClassId\"]\n",
    "    \n",
    "    h, w = (256, 1600)\n",
    "    masks = np.zeros((h, w, 4), dtype=np.float32) # 4:class 1～4 (ch:0～3)\n",
    "    masks[:, :, classid-1] = rle2mask(rle=rle, value=1, shape=(h,w))\n",
    "    \n",
    "    image = cv2.imread(str(test_path/file))\n",
    "    title = f\"Image {file} with defect type: {classid}\"\n",
    "    plot_mask_image(name=title, img=image, mask=masks)\n",
    "\n",
    "sub_img = interactive(show_images, file=images)\n",
    "sub_img"
   ]
  },
  {
   "cell_type": "markdown",
   "metadata": {},
   "source": [
    "## Compare"
   ]
  },
  {
   "cell_type": "markdown",
   "metadata": {},
   "source": [
    "Per visualizzare invece immagini dal training o test set:"
   ]
  },
  {
   "cell_type": "code",
   "execution_count": null,
   "metadata": {},
   "outputs": [
    {
     "data": {
      "application/vnd.jupyter.widget-view+json": {
       "model_id": "9119371ac4c24ce8be0035044c46cf45",
       "version_major": 2,
       "version_minor": 0
      },
      "text/plain": [
       "interactive(children=(Dropdown(description='fdir', options=('../data/train_images', '../data/test_images'), va…"
      ]
     },
     "metadata": {},
     "output_type": "display_data"
    }
   ],
   "source": [
    "#| missing\n",
    "# Create widgets\n",
    "directory = widgets.Dropdown(options=[str(train_path), str(test_path)])\n",
    "images = widgets.Dropdown(options=os.listdir(directory.value))\n",
    "\n",
    "# Updates the image options based on directory value\n",
    "def update_images(*args):\n",
    "    images.options = os.listdir(directory.value)\n",
    "# Tie the image options to directory value\n",
    "directory.observe(update_images, 'value')\n",
    "\n",
    "# Show the images\n",
    "def show_images(fdir, file):\n",
    "    display(Image(f'{fdir}/{file}'))\n",
    "\n",
    "img = interactive(show_images, fdir=directory, file=images)\n",
    "display(img)"
   ]
  },
  {
   "cell_type": "code",
   "execution_count": null,
   "metadata": {},
   "outputs": [
    {
     "data": {
      "application/vnd.jupyter.widget-view+json": {
       "model_id": "0f174499fa344380a36605e2b5fded9d",
       "version_major": 2,
       "version_minor": 0
      },
      "text/plain": [
       "interactive(children=(Dropdown(description='file', options=('054190eb2.jpg', '73aa2aa79.jpg', '69f87ba66.jpg',…"
      ]
     },
     "metadata": {},
     "output_type": "display_data"
    }
   ],
   "source": [
    "#| missing\n",
    "def show_images(file):\n",
    "    plot_defected_image(Path(train_path)/file)\n",
    "\n",
    "img = interactive(show_images, file=images)\n",
    "display(img)"
   ]
  },
  {
   "cell_type": "code",
   "execution_count": null,
   "metadata": {},
   "outputs": [],
   "source": [
    "def select_valid_classid(ClassId=[1,2,3,4], n=5, shuffle=False) -> pd.DataFrame:\n",
    "    df = read_sub_file_from_list(\"ensemble_validation.csv\")\n",
    "    \n",
    "    cond_NaN = df.EncodedPixels.notna()\n",
    "    cond_ClassId = df['ClassId'] == ClassId\n",
    "    result = df.loc[cond_NaN & cond_ClassId]\n",
    "    if shuffle: return result.sample(n=n, replace=True)\n",
    "    else: return result.head(n)    "
   ]
  },
  {
   "cell_type": "code",
   "execution_count": null,
   "metadata": {},
   "outputs": [],
   "source": [
    "#| missing\n",
    "def update_imgids(*args):\n",
    "    images.value = class_selection.result.loc[cond].ImageId.to_list()"
   ]
  },
  {
   "cell_type": "code",
   "execution_count": null,
   "metadata": {},
   "outputs": [
    {
     "data": {
      "application/vnd.jupyter.widget-view+json": {
       "model_id": "8154299b4b9747dabd1e3fe16573a40e",
       "version_major": 2,
       "version_minor": 0
      },
      "text/plain": [
       "interactive(children=(Dropdown(description='ClassId', options=(1, 2, 3, 4), value=1), IntSlider(value=5, descr…"
      ]
     },
     "metadata": {},
     "output_type": "display_data"
    }
   ],
   "source": [
    "#| missing\n",
    "# Tie the image options to submission value\n",
    "submission.observe(update_imgids, 'value')\n",
    "\n",
    "class_selection = interactive(select_valid_classid)\n",
    "int_slider = class_selection.children[1]\n",
    "int_slider.min = 0\n",
    "int_slider.max = 50\n",
    "display(class_selection)"
   ]
  },
  {
   "cell_type": "code",
   "execution_count": null,
   "metadata": {},
   "outputs": [
    {
     "data": {
      "application/vnd.jupyter.widget-view+json": {
       "model_id": "ea9820662bf9408aa9b99a4a9adcb246",
       "version_major": 2,
       "version_minor": 0
      },
      "text/plain": [
       "interactive(children=(Dropdown(description='file', options=('d75725fc3.jpg', '6f96a0814.jpg', 'a2889c2fa.jpg',…"
      ]
     },
     "metadata": {},
     "output_type": "display_data"
    }
   ],
   "source": [
    "#| missing\n",
    "df = class_selection.result\n",
    "images = widgets.Dropdown(options=df.ImageId.to_list())\n",
    "\n",
    "# Show the images\n",
    "def show_images(file):\n",
    "    row = df.loc[df[\"ImageId\"] == file].iloc[0]\n",
    "    rle = row[\"EncodedPixels\"]\n",
    "    classid = row[\"ClassId\"]\n",
    "    \n",
    "    h, w = (256, 1600)\n",
    "    masks = np.zeros((h, w, 4), dtype=np.float32) # 4:class 1～4 (ch:0～3)\n",
    "    masks[:, :, classid-1] = rle2mask(rle=rle, value=1, shape=(h,w))\n",
    "    \n",
    "    image = cv2.imread(str(train_path/file)).astype(np.uint8)\n",
    "    title = f\"Detected: Image {file} with defect type {classid}\"\n",
    "    plot_mask_image(name=title, img=image, mask=masks)\n",
    "    \n",
    "    plot_defected_image(train_path/file, classid)\n",
    "\n",
    "sub_img = interactive(show_images, file=images)\n",
    "display(sub_img)"
   ]
  },
  {
   "cell_type": "code",
   "execution_count": null,
   "metadata": {},
   "outputs": [],
   "source": []
  }
 ],
 "metadata": {
  "kernelspec": {
   "display_name": "Python 3",
   "language": "python",
   "name": "python3"
  }
 },
 "nbformat": 4,
 "nbformat_minor": 4
}
